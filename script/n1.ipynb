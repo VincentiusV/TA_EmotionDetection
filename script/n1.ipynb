{
 "cells": [
  {
   "cell_type": "code",
   "execution_count": 23,
   "metadata": {},
   "outputs": [
    {
     "name": "stdout",
     "output_type": "stream",
     "text": [
      "N1 metric: 0.4948506934952714\n",
      "N2 metric: 0.5155710561544423\n",
      "F1 metric: 0.008226889679952219\n",
      "F2 metric: 6.880449415981515e-05\n"
     ]
    }
   ],
   "source": [
    "import numpy as np\n",
    "import os\n",
    "import cv2\n",
    "from sklearn.neighbors import NearestNeighbors\n",
    "from sklearn.metrics import pairwise_distances\n",
    "\n",
    "# Load images and labels from directories\n",
    "data_dir = \"../dataset/fer2013plus/train\"\n",
    "emotions = ['anger', 'contempt', 'disgust', 'fear', 'happiness', 'neutral', 'sadness', 'surprise']\n",
    "X = []\n",
    "y = []\n",
    "\n",
    "# Iterate through directories for each emotion\n",
    "for i, emotion in enumerate(emotions):\n",
    "    emotion_dir = os.path.join(data_dir, emotion)\n",
    "    for img_name in os.listdir(emotion_dir):\n",
    "        img_path = os.path.join(emotion_dir, img_name)\n",
    "        # Read image and convert to grayscale\n",
    "        img = cv2.imread(img_path, cv2.IMREAD_GRAYSCALE)\n",
    "        # Resize image to a fixed size if necessary\n",
    "        # img = cv2.resize(img, (width, height))\n",
    "        # Flatten image pixel values and append to X\n",
    "        X.append(img.flatten())\n",
    "        # Append emotion label to y\n",
    "        y.append(i)  # Using the index as label\n",
    "\n",
    "# Convert lists to NumPy arrays\n",
    "X = np.array(X)\n",
    "y = np.array(y)\n",
    "\n",
    "# Initialize Nearest Neighbors model\n",
    "nn_model = NearestNeighbors(n_neighbors=2)  # Considering only the nearest neighbor\n",
    "\n",
    "# Fit the model\n",
    "nn_model.fit(X)\n",
    "\n",
    "# Compute pairwise distances between samples\n",
    "distances = pairwise_distances(X)\n",
    "\n",
    "# Initialize lists to store intra-class and extra-class distances\n",
    "intra_class_distances = []\n",
    "extra_class_distances = []\n",
    "\n",
    "# Iterate through each sample in the dataset\n",
    "for i in range(len(X)):\n",
    "    # Get label of current sample\n",
    "    label = y[i]\n",
    "    \n",
    "    # Find the indices of samples with the same label\n",
    "    same_class_indices = np.where(y == label)[0]\n",
    "    \n",
    "    # Find the indices of samples with different labels\n",
    "    different_class_indices = np.where(y != label)[0]\n",
    "    \n",
    "    # Compute distances to nearest neighbors from the same class\n",
    "    same_class_distances = distances[i, same_class_indices]\n",
    "    # Exclude the distance to itself (always 0)\n",
    "    same_class_distances = same_class_distances[same_class_distances != 0]\n",
    "    # Append the minimum distance to intra_class_distances\n",
    "    intra_class_distances.append(np.min(same_class_distances))\n",
    "    \n",
    "    # Compute distances to nearest neighbors from a different class\n",
    "    different_class_distances = distances[i, different_class_indices]\n",
    "    # Append the minimum distance to extra_class_distances\n",
    "    extra_class_distances.append(np.min(different_class_distances))\n",
    "\n",
    "# Convert lists to NumPy arrays\n",
    "intra_class_distances = np.array(intra_class_distances)\n",
    "extra_class_distances = np.array(extra_class_distances)\n",
    "\n",
    "# Calculate N1 metric\n",
    "intra_extra= np.sum(intra_class_distances) / np.sum(extra_class_distances)\n",
    "N1 = intra_extra / (1 + intra_extra)\n",
    "\n",
    "# # Calculate N2 metric\n",
    "# N2 = np.sum(y != y[nn_model.kneighbors(X, 2, return_distance=False)[:, 1]]) / len(y)\n",
    "\n",
    "# print(\"N1 metric:\", N1)\n",
    "# print(\"N2 metric:\", N2)\n",
    "\n",
    "# # Calculate F1 metric\n",
    "# max_fdr = np.max(intra_class_distances / extra_class_distances)\n",
    "# F1 = 1 / (1 + max_fdr)\n",
    "# print(\"F1 metric:\", F1)\n",
    "\n",
    "# # Calculate F2 metric\n",
    "# max_fdr = np.max(intra_class_distances / extra_class_distances)\n",
    "# F2 = 1 / (1 + max_fdr**2)\n",
    "# print(\"F2 metric:\", F2)\n"
   ]
  },
  {
   "cell_type": "code",
   "execution_count": 24,
   "metadata": {},
   "outputs": [
    {
     "name": "stdout",
     "output_type": "stream",
     "text": [
      "Number of images in contempt folder: 165\n",
      "Number of images in neutral folder: 10308\n"
     ]
    }
   ],
   "source": [
    "#calculate how many image in contempt folder\n",
    "contempt_dir = os.path.join(data_dir, 'contempt')\n",
    "contempt_count = len(os.listdir(contempt_dir))\n",
    "print(\"Number of images in contempt folder:\", contempt_count)\n",
    "\n",
    "neutral_dir = os.path.join(data_dir, 'neutral')\n",
    "neutral_count = len(os.listdir(neutral_dir))\n",
    "print(\"Number of images in neutral folder:\", neutral_count)"
   ]
  },
  {
   "cell_type": "code",
   "execution_count": 27,
   "metadata": {},
   "outputs": [
    {
     "name": "stdout",
     "output_type": "stream",
     "text": [
      "62.472727272727276\n",
      "10143.0\n",
      "5019.270584122538\n"
     ]
    }
   ],
   "source": [
    "cn = neutral_count\n",
    "cp = contempt_count\n",
    "\n",
    "ir = cn/cp\n",
    "\n",
    "Ob = cp * (ir - 1)\n",
    "\n",
    "print (str(ir))\n",
    "print (str(Ob))\n",
    "\n",
    "Op = Ob * N1\n",
    "\n",
    "print (str(Op))"
   ]
  },
  {
   "cell_type": "code",
   "execution_count": 1,
   "metadata": {},
   "outputs": [
    {
     "name": "stdout",
     "output_type": "stream",
     "text": [
      "1375.683\n"
     ]
    }
   ],
   "source": [
    "a = 10308 - 7528\n",
    "b = a * 0.49485\n",
    "\n",
    "print(b)"
   ]
  }
 ],
 "metadata": {
  "kernelspec": {
   "display_name": "venv",
   "language": "python",
   "name": "python3"
  },
  "language_info": {
   "codemirror_mode": {
    "name": "ipython",
    "version": 3
   },
   "file_extension": ".py",
   "mimetype": "text/x-python",
   "name": "python",
   "nbconvert_exporter": "python",
   "pygments_lexer": "ipython3",
   "version": "3.9.6"
  }
 },
 "nbformat": 4,
 "nbformat_minor": 2
}
